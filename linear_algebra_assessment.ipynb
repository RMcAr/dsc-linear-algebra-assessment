{
 "cells": [
  {
   "cell_type": "markdown",
   "metadata": {},
   "source": [
    "# Assessments\n",
    "YW\n",
    "* write a function to find the mean of a list of numbers\n",
    "* write a function that calculates a dot product\n",
    "* write a function that centers an array on the mean \n",
    "* write a function to calculate the standard deviation of a list of a numbers (preferably using a dot product)\n",
    "* write a function to calculate the correlation and covariance of two lists\n",
    "* write a function to calculate the cost between ytrue and ypred"
   ]
  },
  {
   "cell_type": "code",
   "execution_count": 36,
   "metadata": {},
   "outputs": [
    {
     "name": "stdout",
     "output_type": "stream",
     "text": [
      "[6.333333333333334, 6.333333333333334, -12.666666666666666] 919\n"
     ]
    }
   ],
   "source": [
    "import numpy as np\n",
    "\n",
    "def mean_center(lst1):\n",
    "    \"\"\"\n",
    "    write a function that takes in a list\n",
    "    and returns that list but centered on the mean\n",
    "    \n",
    "    in other words x -> (x - mu)\n",
    "    \"\"\"\n",
    "    lst1_centered = []\n",
    "    for x in lst1:\n",
    "        lst1_centered.append((x - np.mean(lst1)))\n",
    "    return lst1_centered\n",
    "        \n",
    "\n",
    "\n",
    "def dot_product(lst1, lst2):\n",
    "    \"\"\"\n",
    "    write a function that takes in a list \n",
    "    of numbers and returns their dot product\n",
    "    \"\"\"\n",
    "    dot = 0\n",
    "    for i in range(len(lst1)):\n",
    "        dot += lst1[i]*lst2[i]\n",
    "    return dot"
   ]
  },
  {
   "cell_type": "markdown",
   "metadata": {},
   "source": [
    "# Standard Deviation Formula\n",
    "![](images/standard-deviation.png)"
   ]
  },
  {
   "cell_type": "code",
   "execution_count": 37,
   "metadata": {},
   "outputs": [
    {
     "data": {
      "text/plain": [
       "8.956685895029603"
      ]
     },
     "execution_count": 37,
     "metadata": {},
     "output_type": "execute_result"
    }
   ],
   "source": [
    "def standard_deviation(lst1):\n",
    "    \"\"\"\n",
    "    write a function that takes in a list\n",
    "    of numbers and returns its standard deviation\n",
    "    \"\"\"\n",
    "    summ = 0\n",
    "    n = len(lst1)\n",
    "    for i in range(len(lst1)):\n",
    "        lst_centered = mean_center(lst1)\n",
    "        summ += lst_centered[i]**2\n",
    "    SD = (summ / n) ** (1/2)\n",
    "    return SD"
   ]
  },
  {
   "cell_type": "markdown",
   "metadata": {},
   "source": [
    "# Covariance Formula\n",
    "![](images/covariance.png)"
   ]
  },
  {
   "cell_type": "code",
   "execution_count": 38,
   "metadata": {},
   "outputs": [
    {
     "data": {
      "text/plain": [
       "14.77777777777778"
      ]
     },
     "execution_count": 38,
     "metadata": {},
     "output_type": "execute_result"
    }
   ],
   "source": [
    "def covariance(lst1, lst2):\n",
    "    \"\"\"\n",
    "    write an function that takes in two lists\n",
    "    of numbers and returns their covariance\n",
    "    \"\"\"\n",
    "    summ = 0\n",
    "    n = len(lst1)\n",
    "    for i in range(len(lst1)):\n",
    "        lst1_cent = mean_center(lst1)\n",
    "        lst2_cent = mean_center(lst2)\n",
    "        summ += lst1_cent[i] * lst2_cent[i]\n",
    "    cov = summ / n\n",
    "    return cov    "
   ]
  },
  {
   "cell_type": "markdown",
   "metadata": {},
   "source": [
    "# Correlation Formula\n",
    "![](images/correlation.png)"
   ]
  },
  {
   "cell_type": "code",
   "execution_count": 39,
   "metadata": {},
   "outputs": [],
   "source": [
    "def correlation(lst1, lst2):\n",
    "    \"\"\"\n",
    "    write an function that takes in two lists \n",
    "    of numbers and returns their correlation\n",
    "    \"\"\"\n",
    "    n = len(lst1)\n",
    "    corr = covariance(lst1, lst2) / (standard_deviation(lst1) * standard_deviation(lst2))\n",
    "    return corr"
   ]
  },
  {
   "cell_type": "markdown",
   "metadata": {},
   "source": [
    "# RMSE Formula\n",
    "![](images/rmse.png)"
   ]
  },
  {
   "cell_type": "code",
   "execution_count": 40,
   "metadata": {},
   "outputs": [],
   "source": [
    "def rmse(ytrue, ypred):\n",
    "    \"\"\"\n",
    "    write a function that takes in ytrue and ypred\n",
    "    and returns their root mean squared error\n",
    "    \"\"\"\n",
    "    summ = 0\n",
    "    n = len(ytrue)\n",
    "    for i in range(len(ytrue)):\n",
    "        diff_sq = (ypred[i] - ytrue[i])**2\n",
    "        summ += diff_sq\n",
    "    RMSE = (summ / n) ** (1/2)\n",
    "    return RMSE"
   ]
  },
  {
   "cell_type": "markdown",
   "metadata": {},
   "source": [
    "# RSS Formula \n",
    "![](images/rss.png)"
   ]
  },
  {
   "cell_type": "code",
   "execution_count": 41,
   "metadata": {},
   "outputs": [],
   "source": [
    "def rss(ytrue, ypred):\n",
    "    \"\"\"\n",
    "    write a function that takes in ytrue and ypred\n",
    "    and returns their rss\n",
    "    \"\"\"\n",
    "    summ = 0\n",
    "    for i in range(len(ytrue)):\n",
    "        diff_sq = (ypred[i] - ytrue[i]) ** 2\n",
    "        summ += diff_sq\n",
    "    RSS = summ \n",
    "    return RSS\n",
    "    "
   ]
  },
  {
   "cell_type": "code",
   "execution_count": null,
   "metadata": {},
   "outputs": [],
   "source": []
  }
 ],
 "metadata": {
  "kernelspec": {
   "display_name": "Python 3",
   "language": "python",
   "name": "python3"
  },
  "language_info": {
   "codemirror_mode": {
    "name": "ipython",
    "version": 3
   },
   "file_extension": ".py",
   "mimetype": "text/x-python",
   "name": "python",
   "nbconvert_exporter": "python",
   "pygments_lexer": "ipython3",
   "version": "3.6.9"
  },
  "toc": {
   "base_numbering": 1,
   "nav_menu": {},
   "number_sections": true,
   "sideBar": true,
   "skip_h1_title": false,
   "title_cell": "Table of Contents",
   "title_sidebar": "Contents",
   "toc_cell": false,
   "toc_position": {},
   "toc_section_display": true,
   "toc_window_display": false
  }
 },
 "nbformat": 4,
 "nbformat_minor": 4
}
